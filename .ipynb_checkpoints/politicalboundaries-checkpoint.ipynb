{
 "cells": [
  {
   "cell_type": "markdown",
   "metadata": {
    "slideshow": {
     "slide_type": "slide"
    }
   },
   "source": [
    "# Political Boundaries and Simulations\n",
    "\n",
    "## Zoë Farmer"
   ]
  },
  {
   "cell_type": "markdown",
   "metadata": {
    "collapsed": true,
    "slideshow": {
     "slide_type": "subslide"
    }
   },
   "source": [
    "# What are we talking about?\n",
    "\n",
    "In this presentation I'll discuss two numerical approaches to solving political boundaries while striving to avoid gerrymandering.\n",
    "\n",
    "Slides, code, and images are available here if you want to follow along.\n",
    "\n",
    "http://bit.ly/2xvaHnX\n",
    "\n",
    "or\n",
    "\n",
    "http://dataleek.io/presentations/politicalboundaries"
   ]
  },
  {
   "cell_type": "markdown",
   "metadata": {
    "collapsed": true,
    "slideshow": {
     "slide_type": "subslide"
    }
   },
   "source": [
    "# Who am I?\n",
    "\n",
    "* My name is Zoë Farmer\n",
    "* I'm a recent CU graduate with a BS in Applied Math and a CS Minor\n",
    "* I'm a co-coordinator of the Boulder Python Meetup\n",
    "* I'm a big fan of open source software\n",
    "* I'm looking for work (pls hire me)\n",
    "* http://www.dataleek.io\n",
    "* [@thedataleek](http://www.twitter.com/thedataleek)\n",
    "* [git(hub|lab).com/thedataleek](http://github.com/thedataleek)"
   ]
  },
  {
   "cell_type": "markdown",
   "metadata": {
    "slideshow": {
     "slide_type": "slide"
    }
   },
   "source": [
    "## Our Algorithms\n",
    "\n",
    "* [Simulated Annealing](https://en.wikipedia.org/wiki/Simulated_annealing)\n",
    "    * Minor permutations in a given solution until we find a solution that's slightly better, and repeat.\n",
    "* [Genetic Algorithm](https://en.wikipedia.org/wiki/Genetic_algorithm)\n",
    "    * Create a ton of random solutions, have them \"combine\" and take the best of their children."
   ]
  },
  {
   "cell_type": "markdown",
   "metadata": {
    "slideshow": {
     "slide_type": "slide"
    }
   },
   "source": [
    "# Simulated Annealing\n",
    "\n",
    "1. Generate a random solution\n",
    "2. Generate a \"neighboring solution\" to our generated solution\n",
    "3. Keep whichever is better, or (with decaying probability) take the new one regardless\n",
    "4. Go back to 2"
   ]
  },
  {
   "cell_type": "markdown",
   "metadata": {
    "slideshow": {
     "slide_type": "slide"
    }
   },
   "source": [
    "# Genetic Algorithm\n",
    "\n",
    "1. Randomly generate an initial population of solutions\n",
    "2. Use our solution population to generate some large number of children (note,\n",
    "   these children should inherit properties from their parents)\n",
    "3. Keep the best of our total population\n",
    "4. Go back to 2"
   ]
  },
  {
   "cell_type": "markdown",
   "metadata": {
    "slideshow": {
     "slide_type": "slide"
    }
   },
   "source": [
    "# Drawing Political District Boundaries\n",
    "\n",
    "How can this be applied to political boundaries?\n",
    "\n",
    "Assumptions:\n",
    "\n",
    "* 2 parties\n",
    "* Rectangular areas\n",
    "* Provided in a specific format\n",
    "\n",
    "```\n",
    "D R D R D R R R\n",
    "D D R D R R R R\n",
    "D D D R R R R R\n",
    "D D R R R R D R\n",
    "R R D D D R R R\n",
    "R D D D D D R R\n",
    "R R R D D D D D\n",
    "D D D D D D R D\n",
    "```"
   ]
  },
  {
   "cell_type": "markdown",
   "metadata": {
    "slideshow": {
     "slide_type": "subslide"
    }
   },
   "source": [
    "Which can be plotted for readability.\n",
    "\n",
    "<img src=\"./img/smallState_initial.png\" style=\"width: 50%\">"
   ]
  },
  {
   "cell_type": "markdown",
   "metadata": {
    "slideshow": {
     "slide_type": "slide"
    }
   },
   "source": [
    "# Related Problems to Solve First"
   ]
  },
  {
   "cell_type": "markdown",
   "metadata": {
    "slideshow": {
     "slide_type": "slide"
    }
   },
   "source": [
    "## Finding Neighbors of a Point\n",
    "\n",
    "Our first big problem is how we find neighbors of a single point. For any `(y, x)` pair we can express its neighbors using the following algorithm.\n",
    "\n",
    "1. Iterate over range(-1, 2) for both x and y\n",
    "2. For each loop, accept (y + yi, x + xi) if the following conditions hold:\n",
    "    * y + yi is within the range of the field\n",
    "    * x + xi is within our domain of the field\n",
    "    * xi and yi are not both equal to zero"
   ]
  },
  {
   "cell_type": "markdown",
   "metadata": {
    "slideshow": {
     "slide_type": "slide"
    }
   },
   "source": [
    "## Determining if a District is Valid\n",
    "\n",
    "How do we determine valid solutions?\n",
    "\n",
    "* Think of these as [single connected components](https://en.wikipedia.org/wiki/Connected_component_(graph_theory))\n",
    "* We can use [connected component labelling](https://en.wikipedia.org/wiki/Connected-component_labeling). (from wikipedia)"
   ]
  },
  {
   "cell_type": "markdown",
   "metadata": {
    "slideshow": {
     "slide_type": "slide"
    }
   },
   "source": [
    "## Finding District Neighbors\n",
    "\n",
    "* Need to find all neighbors of a given district\n",
    "* Super similar to connected component labelling\n",
    "\n",
    "The basic algorithm is as follows.\n",
    "\n",
    "1. Get a random spot inside the given district\n",
    "2. Add this spot to a Queue\n",
    "3. Initialize an empty labelling array (as with connected component labelling)\n",
    "4. While the queue is not empty, get an new `(y, x)` pair.\n",
    "5. If the point falls within the district, get all of the point's neighbors, add them to the queue, and go back to (4)\n",
    "6. If the point does not fall into the district, add it to the list of district neighbors."
   ]
  },
  {
   "cell_type": "markdown",
   "metadata": {
    "slideshow": {
     "slide_type": "slide"
    }
   },
   "source": [
    "## What is a Fitness Function?\n",
    "\n",
    "For both these algorithms we talk about their \"value\", which in this case is determined with a fitness function.\n",
    "\n",
    "From wikipedia:\n",
    "\n",
    "> A fitness function is a particular type of objective function that is used to summarise, as a single figure of merit, how close a given design solution is to achieving the set aims.\n",
    "\n",
    "TL;DR a single number that basically tells us how \"good\" of a solution we have."
   ]
  },
  {
   "cell_type": "markdown",
   "metadata": {
    "slideshow": {
     "slide_type": "subslide"
    }
   },
   "source": [
    "Taking a step back from the code and considering the real world, let's think about what we'd ideally like to emphasize in a political districting system.\n",
    "\n",
    "* We'd want districts to be homogeneous.\n",
    "* We want our district ratios to approximately match our population ratios.\n",
    "* We'd want to avoid [gerrymandering](https://en.wikipedia.org/wiki/Gerrymandering)\n",
    "<img src=\"./img/gerrymandering_example.jpg\" style=\"width: 400px; height: 300px;\"/>\n",
    "\n",
    "* We want all districts to be around the same population size."
   ]
  },
  {
   "cell_type": "markdown",
   "metadata": {
    "slideshow": {
     "slide_type": "subslide"
    }
   },
   "source": [
    "Translated to our code these priorities become\n",
    "\n",
    "1. Validity of solution\n",
    "2. Make sure the ratio of `R` to `D` majority districts matches the ratio of `R` to `D` in the general population.\n",
    "3. Make sure each district is as homogeneous as possible\n",
    "4. Reduce the value of the district if its size isn't close to the \"ideal size\", which is `total_size / num_districts`.\n",
    "5. We also take into account that in non-homogeneous districts voters that aren't affiliated with the majority party might be swayed by targeted campaigns. To this effect we account each non-affiliated \"zone\" with a weight of -0.9 instead of -1.\n",
    "6. Finally, we can also minimize edge length as well as trying to keep each district the same size. This will result in hopefully ideal districts"
   ]
  },
  {
   "cell_type": "markdown",
   "metadata": {
    "slideshow": {
     "slide_type": "slide"
    }
   },
   "source": [
    "## Generating Random Solutions\n",
    "\n",
    "This algorithm is very straightforward.\n",
    "\n",
    "1. Generate a number of \"spawn points\" equal to the number of districts.\n",
    "2. Fill.\n",
    "\n",
    "The fill algorithm is also straightforward.\n",
    "\n",
    "1. Set a list of available districts.\n",
    "2. While there are any non-set points, pick a random district, `i`, from the list of available districts.\n",
    "3. Get a list of all neighbors of the district, but filter to only 0-valued entries.\n",
    "4. If no such neighbors exist, remove this district from the list of available districts.\n",
    "5. Otherwise pick a neighbor at random and set it to `i`.\n",
    "6. Loop back to (2)."
   ]
  },
  {
   "cell_type": "markdown",
   "metadata": {
    "slideshow": {
     "slide_type": "subslide"
    }
   },
   "source": [
    "<img src=\"./img/generate_random_solution_smallState.gif\" style=\"width: 50%;\">"
   ]
  },
  {
   "cell_type": "markdown",
   "metadata": {
    "slideshow": {
     "slide_type": "slide"
    }
   },
   "source": [
    "# Simulated Annealing\n",
    "\n",
    "Recall:\n",
    "\n",
    "1. Generate a random solution\n",
    "2. Generate a solution neighbor\n",
    "3. If the new solution is better than the old, set the current solution to the new one.\n",
    "4. Sometimes accept a worse solution"
   ]
  },
  {
   "cell_type": "markdown",
   "metadata": {
    "slideshow": {
     "slide_type": "subslide"
    }
   },
   "source": [
    "## How much does choice of `k` impact solution selection?\n",
    "\n",
    "<img src=\"./img/kvals.png\" style=\"width: 50%;\">"
   ]
  },
  {
   "cell_type": "markdown",
   "metadata": {
    "slideshow": {
     "slide_type": "subslide"
    }
   },
   "source": [
    "The entire process looks like this:\n",
    "\n",
    "<img src=\"./img/simulated_annealing_solution_smallState.gif\" style=\"width: 50%\">"
   ]
  },
  {
   "cell_type": "markdown",
   "metadata": {
    "slideshow": {
     "slide_type": "subslide"
    }
   },
   "source": [
    "Which has the following final solution.\n",
    "\n",
    "<img src=\"./img/simulated_annealing_solution_smallState.png\" style=\"width: 50%\">"
   ]
  },
  {
   "cell_type": "markdown",
   "metadata": {
    "slideshow": {
     "slide_type": "slide"
    }
   },
   "source": [
    "## Mutations\n",
    "\n",
    "Simulated Annealing relies on \"mutating\" solutions via the following algorithm.\n",
    "\n",
    "1. Find all district neighbors\n",
    "2. Pick a neighboring point at random.\n",
    "3. If the neighboring point's district has at least size 2, set this neighboring point to our district.\n",
    "4. Otherwise, pick a different neighboring point."
   ]
  },
  {
   "cell_type": "markdown",
   "metadata": {
    "slideshow": {
     "slide_type": "subslide"
    }
   },
   "source": [
    "Which can be visualized as follows.\n",
    "\n",
    "<img src=\"./img/mutation.png\" style=\"width: 50%\">"
   ]
  },
  {
   "cell_type": "markdown",
   "metadata": {
    "slideshow": {
     "slide_type": "slide"
    }
   },
   "source": [
    "# Genetic Algorithms\n",
    "\n",
    "As simulated annealing relies on `mutate()` to narrow down on a good solution, the genetic algorithm relies on `combine()` to take two solutions and generate a \"child\" solution.\n",
    "\n",
    "1. Shuffle our two parents in an array.\n",
    "2. Shuffle a list of districts.\n",
    "3. Set a cursor that points to the first parent in the array.\n",
    "4. Iterate through our districts with variable `i`\n",
    "5. For the current district, find all points of the parent that our cursor is pointing to.\n",
    "6. Get all \"open\" (i.e. set to 0) points for our child solution\n",
    "7. For every point that matches between these two sets, make a new bitmask.\n",
    "8. If this bitmask is valid (i.e. one connected component), set all point in this child solution to our current district\n",
    "9. Otherwise, make the district valid and set the bits in the child solution\n",
    "10. Flip the cursor\n",
    "\n",
    "The algorithm behind making a district valid is easy, if we have more than one\n",
    "connected component in a given district, pick one at random and discard the\n",
    "other connected components."
   ]
  },
  {
   "cell_type": "markdown",
   "metadata": {
    "slideshow": {
     "slide_type": "subslide"
    }
   },
   "source": [
    "Which can be visualized as follows.\n",
    "\n",
    "<img src=\"./img/combine.png\" style=\"width: 50%\">"
   ]
  },
  {
   "cell_type": "markdown",
   "metadata": {
    "slideshow": {
     "slide_type": "slide"
    }
   },
   "source": [
    "# Final Thoughts\n",
    "\n",
    "* They're both unique approaches that can be applied to incredibly complex problems\n",
    "* However much of their success hinges on the effectiveness of your fitness function\n",
    "* Any given \"final solution\" is somewhat unique, or at the very least improbable to obtain again"
   ]
  },
  {
   "cell_type": "markdown",
   "metadata": {
    "slideshow": {
     "slide_type": "slide"
    }
   },
   "source": [
    "# Using the Code\n",
    "\n",
    "This is straightforward! After installing the required libraries (check [the repository](https://gitlab.com/thedataleek/politicalboundaries)) just run\n",
    "\n",
    "```bash\n",
    "$ python3.6 ./politicalboundaries.py $FILE_TO_RUN\n",
    "```\n",
    "\n",
    "If you want to dig a little deeper, use the `-h` flag to see what it can do, but\n",
    "here's a short list as well.\n",
    "\n",
    "* Use Simulated Annealing on the file\n",
    "* Use the Genetic Algorithm on the file\n",
    "* Set the number of districts for either solution type\n",
    "* Set the precision (number of runs) for either algorithm\n",
    "* Animate the solution process\n",
    "* Create gifs of the solution process (otherwise just `.mp4`)\n",
    "* Generate report (`README.md`) assets.\n",
    "* Do all of the above in one go."
   ]
  },
  {
   "cell_type": "markdown",
   "metadata": {
    "slideshow": {
     "slide_type": "slide"
    }
   },
   "source": [
    "# Next Steps\n",
    "\n",
    "I want to do more for this project but I'm limited in the time I have. I do have\n",
    "a couple of ideas for next steps however.\n",
    "\n",
    "* Parallelizing - Instead of just running simulations on a single thread, we could theoretically spin up a bunch of different threads and run simulations on them simultaneously, only keeping the best of all trials.\n",
    "* Real Data - It would be amazing to take the approaches used in this writeup and apply it to real-world political data."
   ]
  },
  {
   "cell_type": "markdown",
   "metadata": {
    "slideshow": {
     "slide_type": "slide"
    }
   },
   "source": [
    "# Questions?"
   ]
  },
  {
   "cell_type": "code",
   "execution_count": null,
   "metadata": {},
   "outputs": [],
   "source": []
  }
 ],
 "metadata": {
  "celltoolbar": "Slideshow",
  "kernelspec": {
   "display_name": "Python 3",
   "language": "python",
   "name": "python3"
  },
  "language_info": {
   "codemirror_mode": {
    "name": "ipython",
    "version": 3
   },
   "file_extension": ".py",
   "mimetype": "text/x-python",
   "name": "python",
   "nbconvert_exporter": "python",
   "pygments_lexer": "ipython3",
   "version": "3.6.3"
  }
 },
 "nbformat": 4,
 "nbformat_minor": 2
}
