{
 "cells": [
  {
   "cell_type": "markdown",
   "metadata": {
    "slideshow": {
     "slide_type": "slide"
    }
   },
   "source": [
    "# Political Boundaries and Simulations\n",
    "\n",
    "## Zoë Farmer"
   ]
  },
  {
   "cell_type": "markdown",
   "metadata": {
    "collapsed": true,
    "slideshow": {
     "slide_type": "subslide"
    }
   },
   "source": [
    "# What are we talking about?\n",
    "\n",
    "In this presentation I'll discuss two numerical approaches to solving political boundaries while striving to avoid gerrymandering.\n",
    "\n",
    "Slides, code, and images are available here if you want to follow along.\n",
    "\n",
    "http://bit.ly/2xvaHnX\n",
    "\n",
    "or\n",
    "\n",
    "http://dataleek.io/presentations/politicalboundaries"
   ]
  },
  {
   "cell_type": "markdown",
   "metadata": {
    "collapsed": true,
    "slideshow": {
     "slide_type": "subslide"
    }
   },
   "source": [
    "# Who am I?\n",
    "\n",
    "* My name is Zoë Farmer\n",
    "* I'm a recent CU graduate with a BS in Applied Math and a CS Minor\n",
    "* I'm a co-coordinator of the Boulder Python Meetup\n",
    "* I'm a big fan of open source software\n",
    "* I'm looking for work (pls hire me)\n",
    "* http://www.dataleek.io\n",
    "* http://www.twitter.com/thedataleek\n",
    "* [git[hub|lab].com/thedataleek](http://github.com/thedataleek)"
   ]
  },
  {
   "cell_type": "markdown",
   "metadata": {
    "slideshow": {
     "slide_type": "slide"
    }
   },
   "source": [
    "# Our Algorithms\n",
    "\n",
    "* [Simulated Annealing](https://en.wikipedia.org/wiki/Simulated_annealing)\n",
    "    * Minor permutations in a given solution until we find a solution that's slightly better, and repeat.\n",
    "* [Genetic Algorithm](https://en.wikipedia.org/wiki/Genetic_algorithm)\n",
    "    * Create a ton of random solutions, have them \"combine\" and take the best of their children."
   ]
  },
  {
   "cell_type": "markdown",
   "metadata": {
    "slideshow": {
     "slide_type": "slide"
    }
   },
   "source": [
    "# Simulated Annealing\n",
    "\n",
    "1. Generate a random solution\n",
    "2. Generate a \"neighboring solution\" to our generated solution\n",
    "3. Keep whichever is better, or (with decaying probability) take the new one regardless\n",
    "4. Go back to 2"
   ]
  },
  {
   "cell_type": "code",
   "execution_count": 6,
   "metadata": {
    "slideshow": {
     "slide_type": "fragment"
    }
   },
   "outputs": [],
   "source": [
    "def simulated_annealing(system):\n",
    "    solution, value = generate_solution(system)  # Initial solution\n",
    "    time = 1\n",
    "    Tmin = 1e-9\n",
    "    alpha = 0.99\n",
    "    k = 1  # larger k => higher probability of randomly accepting a solution\n",
    "    i = 0\n",
    "    while T > Tmin:\n",
    "        solution_2, value_2 = generate_solution_neighbor(system, solution, value)\n",
    "        value_delta = value_2 - value\n",
    "        if value_delta < 0:\n",
    "            solution = solution_2\n",
    "            value = value_2\n",
    "        elif random.random() < math.exp(-value_delta / (k * T)):\n",
    "            solution = solution_2\n",
    "            value = value_2\n",
    "        T *= alpha\n",
    "        i += 1\n",
    "    print(solution, value, i)"
   ]
  },
  {
   "cell_type": "markdown",
   "metadata": {
    "slideshow": {
     "slide_type": "slide"
    }
   },
   "source": [
    "# Genetic Algorithm\n",
    "\n",
    "1. Randomly generate an initial population of solutions\n",
    "2. Use our solution population to generate some large number of children (note,\n",
    "   these children should inherit properties from their parents)\n",
    "3. Keep the best of our total population\n",
    "4. Go back to 2"
   ]
  },
  {
   "cell_type": "code",
   "execution_count": 9,
   "metadata": {
    "slideshow": {
     "slide_type": "fragment"
    }
   },
   "outputs": [],
   "source": [
    "def genetic_algorithm(system):\n",
    "    solutions = generate_3_solutions(system)\n",
    "    for i in range(precision):\n",
    "        new_solutions = []\n",
    "        for _ in range(10):  # Create 10 children per frame\n",
    "            s1, s2 = np.random.choice(solutions, size=2) # Randomly combine two parents\n",
    "            new_solutions.append(s1.combine(s2))\n",
    "        full_solutions = new_solutions + solutions\n",
    "        # Keep the top 3 for next generation\n",
    "        solutions = get_top_3(full_solutions)\n",
    "    return solutions"
   ]
  },
  {
   "cell_type": "markdown",
   "metadata": {
    "slideshow": {
     "slide_type": "slide"
    }
   },
   "source": [
    "# Drawing Political District Boundaries\n",
    "\n",
    "How can this be applied to political boundaries?\n",
    "\n",
    "Assumptions:\n",
    "\n",
    "* 2 parties\n",
    "* Rectangular areas\n",
    "* Provided in a specific format\n",
    "\n",
    "```\n",
    "D R D R D R R R\n",
    "D D R D R R R R\n",
    "D D D R R R R R\n",
    "D D R R R R D R\n",
    "R R D D D R R R\n",
    "R D D D D D R R\n",
    "R R R D D D D D\n",
    "D D D D D D R D\n",
    "```"
   ]
  },
  {
   "cell_type": "markdown",
   "metadata": {
    "slideshow": {
     "slide_type": "subslide"
    }
   },
   "source": [
    "Which can be plotted for readability.\n",
    "\n",
    "![png](./img/smallState_initial.png)"
   ]
  },
  {
   "cell_type": "markdown",
   "metadata": {
    "slideshow": {
     "slide_type": "slide"
    }
   },
   "source": [
    "# Related Problems to Solve First"
   ]
  },
  {
   "cell_type": "markdown",
   "metadata": {
    "slideshow": {
     "slide_type": "slide"
    }
   },
   "source": [
    "## Finding Neighbors of a Point\n",
    "\n",
    "Our first big problem is how we find neighbors of a single point. For any `(y, x)` pair we can express its neighbors using the following algorithm.\n",
    "\n",
    "1. Iterate over range(-1, 2) for both x and y\n",
    "2. For each loop, accept (y + yi, x + xi) if the following conditions hold:\n",
    "    * y + yi is within the range of the field\n",
    "    * x + xi is within our domain of the field\n",
    "    * xi and yi are not both equal to zero"
   ]
  },
  {
   "cell_type": "code",
   "execution_count": 14,
   "metadata": {
    "slideshow": {
     "slide_type": "fragment"
    }
   },
   "outputs": [],
   "source": [
    "def point_neighbors(y0, x0):\n",
    "    neighbors = [(y0 + y, x0 + x)\n",
    "                 for x in range(-1, 2)\n",
    "                 for y in range(-1, 2)\n",
    "                 if (0 <= y0 + y < self.height) and\n",
    "                 (0 <= x0 + x < self.width) and\n",
    "                 not (x == 0 and y == 0)]\n",
    "    return neighbors"
   ]
  },
  {
   "cell_type": "markdown",
   "metadata": {
    "slideshow": {
     "slide_type": "slide"
    }
   },
   "source": [
    "## Determining if a District is Valid\n",
    "\n",
    "How do we determine valid solutions?\n",
    "\n",
    "* Think of these as [single connected components](https://en.wikipedia.org/wiki/Connected_component_(graph_theory))\n",
    "* We can use [connected component labelling](https://en.wikipedia.org/wiki/Connected-component_labeling). (from wikipedia)\n",
    "\n",
    "> 1. Start from the first pixel in the image. Set \"curlab\" (short for \"current label\") to 1. Go to (2).\n",
    "> 2. If this pixel is a foreground pixel and it is not already labelled, then give it the label \"curlab\" and add it as the first element in a queue, then go to (3). If it is a background pixel or it was already labelled, then repeat (2) for the next pixel in the image.\n",
    "> 3. Pop out an element from the queue, and look at its neighbours (based on any type of connectivity). If a neighbour is a foreground pixel and is not already labelled, give it the \"curlab\" label and add it to the queue. Repeat (3) until there are no more elements in the queue.\n",
    "> 4. Go to (2) for the next pixel in the image and increment \"curlab\" by 1."
   ]
  },
  {
   "cell_type": "code",
   "execution_count": 15,
   "metadata": {
    "slideshow": {
     "slide_type": "subslide"
    }
   },
   "outputs": [],
   "source": [
    "class Mask(object):\n",
    "    # ...\n",
    "    def get_labels(self):\n",
    "        curlab = 1\n",
    "        labels = np.zeros(self.mask.shape)\n",
    "        q = queue.Queue()\n",
    "        def unlabelled(i, j):\n",
    "            return self.mask[i, j] == 1 and labels[i, j] == 0\n",
    "        for i in range(self.height):\n",
    "            for j in range(self.width):\n",
    "                if unlabelled(i, j):\n",
    "                    labels[i, j] = curlab\n",
    "                    q.put((i, j))\n",
    "                    while not q.empty():\n",
    "                        y0, x0 = q.get()\n",
    "                        neighbors = [(y0 + y, x0 + x)\n",
    "                                     for x in range(-1, 2)\n",
    "                                     for y in range(-1, 2)\n",
    "                                     if (0 <= y0 + y < self.height) and\n",
    "                                     (0 <= x0 + x < self.width) and\n",
    "                                     not (x == 0 and y == 0)]\n",
    "                        for ii, jj in neighbors:\n",
    "                            if unlabelled(ii, jj):\n",
    "                                labels[ii, jj] = curlab\n",
    "                                q.put((ii, jj))\n",
    "                    curlab += 1\n",
    "        return curlab, labels\n",
    "    # ..."
   ]
  },
  {
   "cell_type": "markdown",
   "metadata": {
    "slideshow": {
     "slide_type": "slide"
    }
   },
   "source": [
    "## Finding District Neighbors\n",
    "\n",
    "* Need to find all neighbors of a given district\n",
    "* Super similar to connected component labelling\n",
    "\n",
    "The basic algorithm is as follows.\n",
    "\n",
    "1. Get a random spot inside the given district\n",
    "2. Add this spot to a Queue\n",
    "3. Initialize an empty labelling array (as with connected component labelling)\n",
    "4. While the queue is not empty, get an new `(y, x)` pair.\n",
    "5. If the point falls within the district, get all of the point's neighbors, add them to the queue, and go back to (4)\n",
    "6. If the point does not fall into the district, add it to the list of district neighbors."
   ]
  },
  {
   "cell_type": "code",
   "execution_count": 16,
   "metadata": {
    "slideshow": {
     "slide_type": "subslide"
    }
   },
   "outputs": [],
   "source": [
    "class Solution(object):\n",
    "    # ...\n",
    "    def get_district_neighbors(self, i):\n",
    "        y, x = self.get_random_openspot(i)\n",
    "        q = queue.Queue()\n",
    "        q.put((y, x))\n",
    "        edges = []\n",
    "        labels = np.zeros(self.full_mask.shape)\n",
    "        labels[y, x] = 1\n",
    "        while not q.empty():\n",
    "            y, x = q.get()\n",
    "            if self.full_mask[y, x] == i:\n",
    "                for yi, xi in self.get_neighbors(y, x):\n",
    "                    if labels[yi, xi] == 0:\n",
    "                        q.put((yi, xi))\n",
    "                        labels[yi, xi] = 1\n",
    "            else:\n",
    "                edges.append((y, x))\n",
    "        return edges\n",
    "    # ..."
   ]
  },
  {
   "cell_type": "markdown",
   "metadata": {
    "slideshow": {
     "slide_type": "slide"
    }
   },
   "source": [
    "## What is a Fitness Function?\n",
    "\n",
    "For both these algorithms we talk about their \"value\", which in this case is determined with a fitness function.\n",
    "\n",
    "From wikipedia:\n",
    "\n",
    "> A fitness function is a particular type of objective function that is used to summarise, as a single figure of merit, how close a given design solution is to achieving the set aims.\n",
    "\n",
    "TL;DR a single number that basically tells us how \"good\" of a solution we have."
   ]
  },
  {
   "cell_type": "markdown",
   "metadata": {
    "slideshow": {
     "slide_type": "subslide"
    }
   },
   "source": [
    "Taking a step back from the code and considering the real world, let's think about what we'd ideally like to emphasize in a political districting system.\n",
    "\n",
    "* We'd want districts to be homogeneous.\n",
    "* We want our district ratios to approximately match our population ratios.\n",
    "* We'd want to avoid [gerrymandering](https://en.wikipedia.org/wiki/Gerrymandering)\n",
    "<img src=\"./img/gerrymandering_example.jpg\" style=\"width: 400px; height: 300px;\"/>\n",
    "\n",
    "* We want all districts to be around the same population size."
   ]
  },
  {
   "cell_type": "markdown",
   "metadata": {
    "slideshow": {
     "slide_type": "subslide"
    }
   },
   "source": [
    "Translated to our code these priorities become\n",
    "\n",
    "1. Validity of solution\n",
    "2. Make sure the ratio of `R` to `D` majority districts matches the ratio of `R` to `D` in the general population.\n",
    "3. Make sure each district is as homogeneous as possible\n",
    "4. Reduce the value of the district if its size isn't close to the \"ideal size\", which is `total_size / num_districts`.\n",
    "5. We also take into account that in non-homogeneous districts voters that aren't affiliated with the majority party might be swayed by targeted campaigns. To this effect we account each non-affiliated \"zone\" with a weight of -0.9 instead of -1.\n",
    "6. Finally, we can also minimize edge length as well as trying to keep each district the same size. This will result in hopefully ideal districts"
   ]
  },
  {
   "cell_type": "code",
   "execution_count": 19,
   "metadata": {
    "slideshow": {
     "slide_type": "subslide"
    }
   },
   "outputs": [],
   "source": [
    "class Solution(object):\n",
    "    # ...\n",
    "    @property\n",
    "    def value(self):\n",
    "        value = 0\n",
    "        if not self.is_valid:  # if we don't have a valid solution, return 0\n",
    "            return 0\n",
    "        # num districts tries to match population distribution within 10%\n",
    "        size, stats = self.system.stats\n",
    "        for k, v in self.majorities.items():\n",
    "            if np.abs((float(v) / self.numdistricts) - stats[k]) >= 0.1:\n",
    "                return 0\n",
    "        district_size = int(self.width * self.height / self.numdistricts)\n",
    "        # Sum up values of each district\n",
    "        for i in range(1, self.numdistricts + 1):\n",
    "            values = self.system.matrix[self[i].mask.astype(bool)]\n",
    "            if len(values) == 0:\n",
    "                return 0\n",
    "            else:\n",
    "                # District value is simply abs(num_red - num_blue)\n",
    "                subvalue = np.abs(len(values[values == 0]) -\n",
    "                                  len(values[values == 1]))\n",
    "                size_bonus = 0.25 * np.abs(len(values) - district_size)\n",
    "                if subvalue < len(values):\n",
    "                    # For any non-uniform values, add 10% their value to account\n",
    "                    # for independent voter turnout\n",
    "                    subvalue += (len(values) - subvalue) * 0.1\n",
    "                value += subvalue\n",
    "                value -= size_bonus\n",
    "                # Minimize neighbors (same as minimizing edge length)\n",
    "                value += -0.1 * len(self.get_district_neighbors(i))\n",
    "        return value\n",
    "    # ..."
   ]
  },
  {
   "cell_type": "markdown",
   "metadata": {
    "slideshow": {
     "slide_type": "slide"
    }
   },
   "source": [
    "## Generating Random Solutions\n",
    "\n",
    "This algorithm is very straightforward.\n",
    "\n",
    "1. Generate a number of \"spawn points\" equal to the number of districts.\n",
    "2. Fill.\n",
    "\n",
    "The fill algorithm is also straightforward.\n",
    "\n",
    "1. Set a list of available districts.\n",
    "2. While there are any non-set points, pick a random district, `i`, from the list of available districts.\n",
    "3. Get a list of all neighbors of the district, but filter to only 0-valued entries.\n",
    "4. If no such neighbors exist, remove this district from the list of available districts.\n",
    "5. Otherwise pick a neighbor at random and set it to `i`.\n",
    "6. Loop back to (2)."
   ]
  },
  {
   "cell_type": "code",
   "execution_count": 20,
   "metadata": {
    "slideshow": {
     "slide_type": "subslide"
    }
   },
   "outputs": [],
   "source": [
    "class Solution(object):\n",
    "    # ...\n",
    "    def generate_random_solution(self, history=False):\n",
    "        solution_history = [self.copy()]\n",
    "        for i in range(1, self.numdistricts + 1):\n",
    "            y, x = self.get_random_openspot(0)\n",
    "            self.full_mask[y, x] = i\n",
    "            if history:\n",
    "                solution_history.append(self.copy())\n",
    "        solution_history += self.fill(keep_history=history)\n",
    "        if history:\n",
    "            return solution_history\n",
    "    # ..."
   ]
  },
  {
   "cell_type": "markdown",
   "metadata": {
    "slideshow": {
     "slide_type": "subslide"
    }
   },
   "source": [
    "![gif](./img/generate_random_solution_smallState.gif)"
   ]
  },
  {
   "cell_type": "markdown",
   "metadata": {
    "slideshow": {
     "slide_type": "slide"
    }
   },
   "source": [
    "# Simulated Annealing\n",
    "\n",
    "Recall:\n",
    "\n",
    "1. Generate a random solution\n",
    "2. Generate a solution neighbor\n",
    "3. If the new solution is better than the old, set the current solution to the new one.\n",
    "4. Sometimes accept a worse solution"
   ]
  },
  {
   "cell_type": "code",
   "execution_count": 21,
   "metadata": {
    "slideshow": {
     "slide_type": "fragment"
    }
   },
   "outputs": [],
   "source": [
    "def simulated_annealing(system, numdistricts, precision):\n",
    "    solution = get_good_start(system, numdistricts)\n",
    "    k = 0.25  # Larger k => more chance of randomly accepting\n",
    "    Tvals = np.arange(1, 1e-12, -1.0 / precision)\n",
    "    print(f'Running Simulated Annealing with k={k:0.03f}, alpha={1.0 / precision:0.05f}')\n",
    "    for i, T in tqdm(enumerate(Tvals), total=len(Tvals)):\n",
    "        new_solution = solution.copy()  # copy our current solution\n",
    "        new_solution.mutate()  # Mutate the copy\n",
    "        dv = new_solution.value - solution.value  # Look at delta of values\n",
    "        # If it's better, or random chance, we accept it\n",
    "        if dv > 0 or random.random() < math.exp(dv / (k * T)):\n",
    "            solution = new_solution"
   ]
  },
  {
   "cell_type": "markdown",
   "metadata": {
    "slideshow": {
     "slide_type": "subslide"
    }
   },
   "source": [
    "## How much does choice of `k` impact solution selection?\n",
    "\n",
    "![png](./img/kvals.png)"
   ]
  },
  {
   "cell_type": "markdown",
   "metadata": {
    "slideshow": {
     "slide_type": "subslide"
    }
   },
   "source": [
    "The entire process looks like this:\n",
    "\n",
    "![gif](./img/simulated_annealing_solution_smallState.gif)"
   ]
  },
  {
   "cell_type": "markdown",
   "metadata": {
    "slideshow": {
     "slide_type": "subslide"
    }
   },
   "source": [
    "Which has the following final solution.\n",
    "\n",
    "![png](./img/simulated_annealing_solution_smallState.png)"
   ]
  },
  {
   "cell_type": "markdown",
   "metadata": {
    "slideshow": {
     "slide_type": "slide"
    }
   },
   "source": [
    "## Mutations\n",
    "\n",
    "Simulated Annealing relies on \"mutating\" solutions via the following algorithm.\n",
    "\n",
    "1. Find all district neighbors\n",
    "2. Pick a neighboring point at random.\n",
    "3. If the neighboring point's district has at least size 2, set this neighboring point to our district.\n",
    "4. Otherwise, pick a different neighboring point."
   ]
  },
  {
   "cell_type": "code",
   "execution_count": 28,
   "metadata": {
    "slideshow": {
     "slide_type": "subslide"
    }
   },
   "outputs": [],
   "source": [
    "class Solution(object):\n",
    "    # ...\n",
    "    def mutate(self):\n",
    "        i = np.random.randint(1, self.numdistricts)\n",
    "        y, x = self.get_random_openspot(i)\n",
    "        traversed = set()\n",
    "        q = queue.Queue()\n",
    "        q.put((y, x))\n",
    "        while not q.empty():\n",
    "            y, x = q.get()\n",
    "            if (y, x) not in traversed:\n",
    "                traversed.add((y, x))\n",
    "\n",
    "                if (self.full_mask[y, x] != i and\n",
    "                        self[self.full_mask[y, x]].size > 1):\n",
    "                    old_value = self.full_mask[y, x]\n",
    "                    self.full_mask[y, x] = i\n",
    "                    if not self.is_valid:  # make sure new mutation is valid\n",
    "                        # If not, reset and start over\n",
    "                        self.full_mask[y, x] = old_value\n",
    "                    else:\n",
    "                        break\n",
    "\n",
    "                for ii, jj in self.get_neighbors(y, x):\n",
    "                    q.put((ii, jj))\n",
    "    # ..."
   ]
  },
  {
   "cell_type": "markdown",
   "metadata": {
    "slideshow": {
     "slide_type": "subslide"
    }
   },
   "source": [
    "Which can be visualized as follows.\n",
    "\n",
    "![png](./img/mutation.png)"
   ]
  },
  {
   "cell_type": "markdown",
   "metadata": {
    "slideshow": {
     "slide_type": "slide"
    }
   },
   "source": [
    "# Genetic Algorithms\n",
    "\n",
    "As simulated annealing relies on `mutate()` to narrow down on a good solution, the genetic algorithm relies on `combine()` to take two solutions and generate a \"child\" solution.\n",
    "\n",
    "1. Shuffle our two parents in an array.\n",
    "2. Shuffle a list of districts.\n",
    "3. Set a cursor that points to the first parent in the array.\n",
    "4. Iterate through our districts with variable `i`\n",
    "5. For the current district, find all points of the parent that our cursor is pointing to.\n",
    "6. Get all \"open\" (i.e. set to 0) points for our child solution\n",
    "7. For every point that matches between these two sets, make a new bitmask.\n",
    "8. If this bitmask is valid (i.e. one connected component), set all point in this child solution to our current district\n",
    "9. Otherwise, make the district valid and set the bits in the child solution\n",
    "10. Flip the cursor\n",
    "\n",
    "The algorithm behind making a district valid is easy, if we have more than one\n",
    "connected component in a given district, pick one at random and discard the\n",
    "other connected components."
   ]
  },
  {
   "cell_type": "code",
   "execution_count": 29,
   "metadata": {
    "slideshow": {
     "slide_type": "subslide"
    }
   },
   "outputs": [],
   "source": [
    "class Solution(object):\n",
    "    # ...\n",
    "    def combine(self, other_solution):\n",
    "        new_solution = Solution(self.system, self.numdistricts)\n",
    "        # Randomly order parents to choose from\n",
    "        pick_order = [self, other_solution]\n",
    "        random.shuffle(pick_order)\n",
    "        # Randomly order districts to choose from\n",
    "        districts = list(range(1, self.numdistricts + 1))\n",
    "        random.shuffle(districts)\n",
    "        cursor = 0  # alternates between parents\n",
    "        for i in districts:\n",
    "            parent_locations = pick_order[cursor][i].location\n",
    "            open_locations = new_solution.get_full_openspots(0)\n",
    "            district = Mask()\n",
    "            # We make every child valid\n",
    "            district.parse_locations(self.height, self.width,\n",
    "                                     [(y, x) for y, x in parent_locations\n",
    "                                      if [y, x] in open_locations])\n",
    "            if not district.is_valid:\n",
    "                district.make_valid()\n",
    "            for y, x in district.location:\n",
    "                new_solution.full_mask[y, x] = i\n",
    "            cursor ^= 1\n",
    "        for i in range(1, self.numdistricts + 1):\n",
    "            y, x = new_solution.get_random_openspot(i)\n",
    "            if y is None:\n",
    "                y, x = new_solution.get_random_openspot(0)\n",
    "                new_solution.full_mask[y, x] = i\n",
    "        if random.random() < 0.1:\n",
    "            new_solution.mutate()\n",
    "        return new_solution\n",
    "    # ..."
   ]
  },
  {
   "cell_type": "markdown",
   "metadata": {
    "slideshow": {
     "slide_type": "subslide"
    }
   },
   "source": [
    "Which can be visualized as follows.\n",
    "\n",
    "![png](./img/combine.png)"
   ]
  },
  {
   "cell_type": "markdown",
   "metadata": {
    "slideshow": {
     "slide_type": "slide"
    }
   },
   "source": [
    "# Final Thoughts\n",
    "\n",
    "* They're both unique approaches that can be applied to incredibly complex problems\n",
    "* However much of their success hinges on the effectiveness of your fitness function\n",
    "* Any given \"final solution\" is somewhat unique, or at the very least improbable to obtain again"
   ]
  },
  {
   "cell_type": "markdown",
   "metadata": {
    "slideshow": {
     "slide_type": "slide"
    }
   },
   "source": [
    "# Using the Code\n",
    "\n",
    "This is straightforward! After installing the required libraries (check [the repository](https://gitlab.com/thedataleek/politicalboundaries)) just run\n",
    "\n",
    "```bash\n",
    "$ python3.6 ./politicalboundaries.py $FILE_TO_RUN\n",
    "```\n",
    "\n",
    "If you want to dig a little deeper, use the `-h` flag to see what it can do, but\n",
    "here's a short list as well.\n",
    "\n",
    "* Use Simulated Annealing on the file\n",
    "* Use the Genetic Algorithm on the file\n",
    "* Set the number of districts for either solution type\n",
    "* Set the precision (number of runs) for either algorithm\n",
    "* Animate the solution process\n",
    "* Create gifs of the solution process (otherwise just `.mp4`)\n",
    "* Generate report (`README.md`) assets.\n",
    "* Do all of the above in one go."
   ]
  },
  {
   "cell_type": "markdown",
   "metadata": {
    "slideshow": {
     "slide_type": "slide"
    }
   },
   "source": [
    "# Next Steps\n",
    "\n",
    "I want to do more for this project but I'm limited in the time I have. I do have\n",
    "a couple of ideas for next steps however.\n",
    "\n",
    "* Parallelizing - Instead of just running simulations on a single thread, we could theoretically spin up a bunch of different threads and run simulations on them simultaneously, only keeping the best of all trials.\n",
    "* Real Data - It would be amazing to take the approaches used in this writeup and apply it to real-world political data."
   ]
  },
  {
   "cell_type": "markdown",
   "metadata": {
    "slideshow": {
     "slide_type": "slide"
    }
   },
   "source": [
    "# Questions?"
   ]
  },
  {
   "cell_type": "code",
   "execution_count": null,
   "metadata": {},
   "outputs": [],
   "source": []
  }
 ],
 "metadata": {
  "celltoolbar": "Slideshow",
  "kernelspec": {
   "display_name": "Python 3",
   "language": "python",
   "name": "python3"
  },
  "language_info": {
   "codemirror_mode": {
    "name": "ipython",
    "version": 3
   },
   "file_extension": ".py",
   "mimetype": "text/x-python",
   "name": "python",
   "nbconvert_exporter": "python",
   "pygments_lexer": "ipython3",
   "version": "3.6.2"
  }
 },
 "nbformat": 4,
 "nbformat_minor": 2
}
